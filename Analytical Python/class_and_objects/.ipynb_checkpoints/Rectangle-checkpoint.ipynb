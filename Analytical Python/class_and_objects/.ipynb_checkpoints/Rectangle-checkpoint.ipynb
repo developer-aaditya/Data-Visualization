{
 "cells": [
  {
   "cell_type": "code",
   "id": "initial_id",
   "metadata": {
    "collapsed": true,
    "ExecuteTime": {
     "end_time": "2025-10-30T08:14:13.477367Z",
     "start_time": "2025-10-30T08:14:00.258791Z"
    }
   },
   "source": [
    "# Defining a class for rectangle\n",
    "class Rectangle:\n",
    "    # member variables\n",
    "    length = 0\n",
    "    breadth = 0\n",
    "\n",
    "    # ------------------------------------------------------------------\n",
    "    # method for input of data\n",
    "    def input_data(self):\n",
    "        self.length = float(input(\"Enter the length of the rectangle: \"))\n",
    "        self.breadth = float(input(\"Enter the breadth of the rectangle: \"))\n",
    "\n",
    "    # ------------------------------------------------------------------\n",
    "    # method for displaying the data\n",
    "    def display(self):\n",
    "        print(\"------------Rectangle-------------\")\n",
    "        print(\"Length: \", self.length)\n",
    "        print(\"Breadth: \", self.breadth)\n",
    "\n",
    "    # ------------------------------------------------------------------\n",
    "    # method for calculate the parameter\n",
    "    def parameter(self):\n",
    "        parameter = 2 * (self.length + self.breadth)\n",
    "        print(\"Parameter: \", parameter)\n",
    "\n",
    "    # ------------------------------------------------------------------\n",
    "    # method for calculate the parameter\n",
    "    def area(self):\n",
    "        area = self.length * self.breadth\n",
    "        print(\"Area: \", area)\n",
    "\n",
    "rectangle = Rectangle()\n",
    "rectangle.input_data()\n",
    "rectangle.display()\n",
    "rectangle.parameter()\n",
    "rectangle.area()"
   ],
   "outputs": [
    {
     "name": "stdout",
     "output_type": "stream",
     "text": [
      "------------Rectangle-------------\n",
      "Length:  12.0\n",
      "Breadth:  10.0\n",
      "Parameter:  44.0\n",
      "Area:  120.0\n"
     ]
    }
   ],
   "execution_count": 1
  },
  {
   "metadata": {},
   "cell_type": "code",
   "outputs": [],
   "execution_count": null,
   "source": "",
   "id": "da496da564473468"
  }
 ],
 "metadata": {
  "kernelspec": {
   "display_name": "Python 3",
   "language": "python",
   "name": "python3"
  },
  "language_info": {
   "codemirror_mode": {
    "name": "ipython",
    "version": 2
   },
   "file_extension": ".py",
   "mimetype": "text/x-python",
   "name": "python",
   "nbconvert_exporter": "python",
   "pygments_lexer": "ipython2",
   "version": "2.7.6"
  }
 },
 "nbformat": 4,
 "nbformat_minor": 5
}
