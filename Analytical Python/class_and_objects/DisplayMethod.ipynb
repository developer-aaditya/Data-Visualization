{
 "cells": [
  {
   "cell_type": "markdown",
   "id": "1537c72b-1f5f-4a82-8db1-b9673aa2609f",
   "metadata": {},
   "source": [
    "# Class for storing two numbers"
   ]
  },
  {
   "cell_type": "code",
   "execution_count": 8,
   "id": "6c9e005c-691f-4365-948e-33f08ebffe23",
   "metadata": {},
   "outputs": [],
   "source": [
    "class Number:\n",
    "    def __init__(self, num1, num2):\n",
    "        self.num1=num1\n",
    "        self.num2=num2\n",
    "\n",
    "    # Method for displaying object as a string\n",
    "    def __str__(self):\n",
    "        return \"First no:\" +str(self.num1)+ \"\\nSecond no:\" +str(self.num2)\n",
    "        # return f\"First no: {self.num1} \\n Second no: {self.num2}\""
   ]
  },
  {
   "cell_type": "code",
   "execution_count": 9,
   "id": "36355113-489f-48d4-863b-41064a333c17",
   "metadata": {},
   "outputs": [
    {
     "name": "stdout",
     "output_type": "stream",
     "text": [
      "First no:10\n",
      "Second no:20\n"
     ]
    }
   ],
   "source": [
    "n = Number(10, 20)\n",
    "print(n)"
   ]
  },
  {
   "cell_type": "code",
   "execution_count": null,
   "id": "9f0ea3ea-2ebf-4bff-8a6d-0b5b0165ac5f",
   "metadata": {},
   "outputs": [],
   "source": []
  }
 ],
 "metadata": {
  "kernelspec": {
   "display_name": "Python 3 (ipykernel)",
   "language": "python",
   "name": "python3"
  },
  "language_info": {
   "codemirror_mode": {
    "name": "ipython",
    "version": 3
   },
   "file_extension": ".py",
   "mimetype": "text/x-python",
   "name": "python",
   "nbconvert_exporter": "python",
   "pygments_lexer": "ipython3",
   "version": "3.14.0"
  }
 },
 "nbformat": 4,
 "nbformat_minor": 5
}
