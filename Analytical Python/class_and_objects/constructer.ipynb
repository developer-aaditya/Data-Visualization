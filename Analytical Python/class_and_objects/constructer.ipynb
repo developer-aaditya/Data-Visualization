{
 "cells": [
  {
   "cell_type": "markdown",
   "id": "cad9e233-4181-4fe4-8574-f03407b45765",
   "metadata": {},
   "source": [
    "# Constructer -> A constructer is a special method used to initialize the object."
   ]
  },
  {
   "cell_type": "code",
   "execution_count": null,
   "id": "de5dae3a-06a6-4615-925a-e1a3fb821c06",
   "metadata": {},
   "outputs": [],
   "source": [
    "# Defining a class for rectangle\n",
    "class Rectangle:\n",
    "    \n",
    "    # ------------------------------------------------------------------\n",
    "    # Constructor for the Rectange class\n",
    "    def __init__(self):\n",
    "        self.__length = float(input(\"Enter the length of the rectangle: \"))    # private member\n",
    "        self.__breadth = float(input(\"Enter the breadth of the rectangle: \"))   # private member\n",
    "\n",
    "    # ------------------------------------------------------------------\n",
    "    # method for displaying the data\n",
    "    def display(self):\n",
    "        print(\"------------Rectangle-------------\")\n",
    "        print(\"Length: \", self.__length)\n",
    "        print(\"Breadth: \", self.__breadth)\n",
    "        # Calling private methods for confidentiality\n",
    "        self.__parameter()\n",
    "        self.__area()\n",
    "\n",
    "    # ------------------------------------------------------------------\n",
    "    # method for calculate the parameter\n",
    "    def __parameter(self):\n",
    "        parameter = 2 * (self.__length + self.__breadth)\n",
    "        print(\"Parameter: \", parameter)\n",
    "\n",
    "    # ------------------------------------------------------------------\n",
    "    # method for calculate the parameter\n",
    "    def __area(self):\n",
    "        area = self.__length * self.__breadth\n",
    "        print(\"Area: \", area)\n"
   ]
  }
 ],
 "metadata": {
  "kernelspec": {
   "display_name": "Python 3 (ipykernel)",
   "language": "python",
   "name": "python3"
  },
  "language_info": {
   "codemirror_mode": {
    "name": "ipython",
    "version": 3
   },
   "file_extension": ".py",
   "mimetype": "text/x-python",
   "name": "python",
   "nbconvert_exporter": "python",
   "pygments_lexer": "ipython3",
   "version": "3.14.0"
  }
 },
 "nbformat": 4,
 "nbformat_minor": 5
}
