{
 "cells": [
  {
   "cell_type": "code",
   "execution_count": 1,
   "id": "31fdf28c-9553-47e9-8bed-a8e9ca9da178",
   "metadata": {},
   "outputs": [],
   "source": [
    "# Defining a class for rectangle\n",
    "class Rectangle:\n",
    "    # private member variables\n",
    "    __length = 0\n",
    "    __breadth = 0\n",
    "\n",
    "    # ------------------------------------------------------------------\n",
    "    # method for input of data\n",
    "    def input_data(self):\n",
    "        self.__length = float(input(\"Enter the length of the rectangle: \"))\n",
    "        self.__breadth = float(input(\"Enter the breadth of the rectangle: \"))\n",
    "\n",
    "    # ------------------------------------------------------------------\n",
    "    # method for displaying the data\n",
    "    def display(self):\n",
    "        print(\"------------Rectangle-------------\")\n",
    "        print(\"Length: \", self.__length)\n",
    "        print(\"Breadth: \", self.__breadth)\n",
    "\n",
    "    # ------------------------------------------------------------------\n",
    "    # method for calculate the parameter\n",
    "    def parameter(self):\n",
    "        parameter = 2 * (self.__length + self.__breadth)\n",
    "        print(\"Parameter: \", parameter)\n",
    "\n",
    "    # ------------------------------------------------------------------\n",
    "    # method for calculate the parameter\n",
    "    def area(self):\n",
    "        area = self.__length * self.__breadth\n",
    "        print(\"Area: \", area)\n"
   ]
  },
  {
   "cell_type": "code",
   "execution_count": 2,
   "id": "c36d3c11-3b0d-4b9c-a37d-c7fc5aa160b1",
   "metadata": {},
   "outputs": [
    {
     "name": "stdin",
     "output_type": "stream",
     "text": [
      "Enter the length of the rectangle:  10\n",
      "Enter the breadth of the rectangle:  20\n"
     ]
    },
    {
     "name": "stdout",
     "output_type": "stream",
     "text": [
      "------------Rectangle-------------\n",
      "Length:  10.0\n",
      "Breadth:  20.0\n",
      "Parameter:  60.0\n",
      "Area:  200.0\n"
     ]
    }
   ],
   "source": [
    "rectangle = Rectangle()\n",
    "rectangle.input_data()\n",
    "rectangle.display()\n",
    "rectangle.parameter()\n",
    "rectangle.area()"
   ]
  },
  {
   "cell_type": "code",
   "execution_count": null,
   "id": "97949da2-374c-419d-bbc9-7a3ee2153eb2",
   "metadata": {},
   "outputs": [],
   "source": []
  }
 ],
 "metadata": {
  "kernelspec": {
   "display_name": "Python 3 (ipykernel)",
   "language": "python",
   "name": "python3"
  },
  "language_info": {
   "codemirror_mode": {
    "name": "ipython",
    "version": 3
   },
   "file_extension": ".py",
   "mimetype": "text/x-python",
   "name": "python",
   "nbconvert_exporter": "python",
   "pygments_lexer": "ipython3",
   "version": "3.14.0"
  }
 },
 "nbformat": 4,
 "nbformat_minor": 5
}
