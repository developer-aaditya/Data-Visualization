{
 "cells": [
  {
   "cell_type": "code",
   "execution_count": 3,
   "id": "initial_id",
   "metadata": {
    "ExecuteTime": {
     "end_time": "2025-10-30T08:14:13.477367Z",
     "start_time": "2025-10-30T08:14:00.258791Z"
    }
   },
   "outputs": [],
   "source": [
    "# Defining a class for rectangle\n",
    "class Rectangle:\n",
    "    # member variables\n",
    "    length = 0\n",
    "    breadth = 0\n",
    "\n",
    "    # ------------------------------------------------------------------\n",
    "    # method for input of data\n",
    "    def input_data(self):\n",
    "        self.length = float(input(\"Enter the length of the rectangle: \"))\n",
    "        self.breadth = float(input(\"Enter the breadth of the rectangle: \"))\n",
    "\n",
    "    # ------------------------------------------------------------------\n",
    "    # method for displaying the data\n",
    "    def display(self):\n",
    "        print(\"------------Rectangle-------------\")\n",
    "        print(\"Length: \", self.length)\n",
    "        print(\"Breadth: \", self.breadth)\n",
    "\n",
    "    # ------------------------------------------------------------------\n",
    "    # method for calculate the parameter\n",
    "    def parameter(self):\n",
    "        parameter = 2 * (self.length + self.breadth)\n",
    "        print(\"Parameter: \", parameter)\n",
    "\n",
    "    # ------------------------------------------------------------------\n",
    "    # method for calculate the parameter\n",
    "    def area(self):\n",
    "        area = self.length * self.breadth\n",
    "        print(\"Area: \", area)\n"
   ]
  },
  {
   "cell_type": "code",
   "execution_count": 4,
   "id": "da496da564473468",
   "metadata": {},
   "outputs": [
    {
     "name": "stdin",
     "output_type": "stream",
     "text": [
      "Enter the length of the rectangle:  10\n",
      "Enter the breadth of the rectangle:  10\n"
     ]
    },
    {
     "name": "stdout",
     "output_type": "stream",
     "text": [
      "------------Rectangle-------------\n",
      "Length:  10.0\n",
      "Breadth:  10.0\n",
      "Parameter:  40.0\n",
      "Area:  100.0\n"
     ]
    }
   ],
   "source": [
    "rectangle = Rectangle()\n",
    "rectangle.input_data()\n",
    "rectangle.display()\n",
    "rectangle.parameter()\n",
    "rectangle.area()"
   ]
  },
  {
   "cell_type": "code",
   "execution_count": null,
   "id": "946fc8d6-25f6-40c4-a9fa-f0e8cde42e3d",
   "metadata": {},
   "outputs": [],
   "source": []
  }
 ],
 "metadata": {
  "kernelspec": {
   "display_name": "Python 3 (ipykernel)",
   "language": "python",
   "name": "python3"
  },
  "language_info": {
   "codemirror_mode": {
    "name": "ipython",
    "version": 3
   },
   "file_extension": ".py",
   "mimetype": "text/x-python",
   "name": "python",
   "nbconvert_exporter": "python",
   "pygments_lexer": "ipython3",
   "version": "3.14.0"
  }
 },
 "nbformat": 4,
 "nbformat_minor": 5
}
