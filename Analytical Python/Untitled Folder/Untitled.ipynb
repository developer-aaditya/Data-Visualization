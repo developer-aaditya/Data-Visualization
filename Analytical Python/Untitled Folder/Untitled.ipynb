{
 "cells": [
  {
   "cell_type": "markdown",
   "id": "9fd600c4-38a5-4405-9fd4-5b41e8044b64",
   "metadata": {},
   "source": [
    "# Abhio"
   ]
  },
  {
   "cell_type": "code",
   "execution_count": null,
   "id": "e2b62d3c-7e25-44c3-998b-e6f3c24fe30f",
   "metadata": {},
   "outputs": [],
   "source": []
  }
 ],
 "metadata": {
  "kernelspec": {
   "display_name": "Python 3 (ipykernel)",
   "language": "python",
   "name": "python3"
  },
  "language_info": {
   "codemirror_mode": {
    "name": "ipython",
    "version": 3
   },
   "file_extension": ".py",
   "mimetype": "text/x-python",
   "name": "python",
   "nbconvert_exporter": "python",
   "pygments_lexer": "ipython3",
   "version": "3.14.0"
  }
 },
 "nbformat": 4,
 "nbformat_minor": 5
}
